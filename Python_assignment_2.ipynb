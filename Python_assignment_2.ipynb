{
 "cells": [
  {
   "cell_type": "code",
   "execution_count": null,
   "metadata": {},
   "outputs": [],
   "source": [
    "1. What are the Boolean data type's two values? How do you go about writing them?\n",
    "\n",
    "True\n",
    "False"
   ]
  },
  {
   "cell_type": "code",
   "execution_count": null,
   "metadata": {},
   "outputs": [],
   "source": [
    "2. What are the three different types of Boolean operators?\n",
    "\n",
    "and\n",
    "or\n",
    "not"
   ]
  },
  {
   "cell_type": "code",
   "execution_count": null,
   "metadata": {},
   "outputs": [],
   "source": [
    "3. Make a list of each Boolean operator's truth tables \n",
    "(i.e. every possible combination of Boolean values for the operator and what it evaluate ).\n",
    "\n",
    "And Table:\n",
    "    True and True = True\n",
    "    True and False = False\n",
    "    False and False = False\n",
    "    \n",
    "Or Table:\n",
    "    True or True = True\n",
    "    True or True = True\n",
    "    False or False = False\n",
    "    \n",
    "Not Table:\n",
    "    not true = False\n",
    "    not False = True"
   ]
  },
  {
   "cell_type": "code",
   "execution_count": null,
   "metadata": {},
   "outputs": [],
   "source": [
    "4. What are the values of the following expressions?\n",
    "(5 > 4) and (3 == 5)\n",
    "not (5 > 4)\n",
    "(5 > 4) or (3 == 5)\n",
    "not ((5 > 4) or (3 == 5))\n",
    "(True and True) and (True == False)\n",
    "(not False) or (not True)\n",
    "\n",
    "    (5 > 4) and (3 == 5)---False\n",
    "    not (5 > 4)---False\n",
    "    (5 > 4) or (3 == 5)---True\n",
    "    not ((5 > 4) or (3 == 5))---False\n",
    "    (True and True) and (True == False)---False\n",
    "    (not False) or (not True)---True"
   ]
  },
  {
   "cell_type": "code",
   "execution_count": null,
   "metadata": {},
   "outputs": [],
   "source": [
    "5. What are the six different types of reference operators?\n",
    "\n",
    "<, >=, >, <=, ==, !="
   ]
  },
  {
   "cell_type": "code",
   "execution_count": null,
   "metadata": {},
   "outputs": [],
   "source": [
    "6. How do you tell the difference between the equal to and assignment operators?\n",
    "\n",
    "== is used to compare two values,\n",
    "= is used to assign vavalues to a variable"
   ]
  },
  {
   "cell_type": "code",
   "execution_count": null,
   "metadata": {},
   "outputs": [],
   "source": [
    "7. Describe a condition and when you would use one.\n",
    "\n"
   ]
  },
  {
   "cell_type": "code",
   "execution_count": null,
   "metadata": {},
   "outputs": [],
   "source": [
    "8. Recognize the following three blocks in this code:\n",
    "spam = 0\n",
    "if spam == 10:\n",
    "    print('eggs')\n",
    "    if spam > 5:\n",
    "        print('bacon')\n",
    "    else:\n",
    "        print('ham')\n",
    "    print('spam')\n",
    "print('spam')\n",
    "\n",
    "\n",
    "      print('eggs')\n",
    "    if spam > 5:\n",
    "        print('bacon')\n",
    "    else:\n",
    "        print('ham')\n",
    "    print('spam') ---- all these codes are within 1st if statements."
   ]
  },
  {
   "cell_type": "code",
   "execution_count": null,
   "metadata": {},
   "outputs": [],
   "source": [
    "9. Create a programme that prints. If 1 is stored in spam, prints Hello; if 2 is stored in spam, prints Howdy; \n",
    "and if 3 is stored in spam, prints Salutations! if there's something else in spam.\n",
    "\n",
    "spam=int(input(\"enter number\"))\n",
    "if spam==1:\n",
    "    print(\"Hello\")\n",
    "elif spam==2:\n",
    "    print(\"Houdy\")\n",
    "elif spam==3:\n",
    "    print(\"Salutation!\")\n",
    "else:\n",
    "    print(\"Enter a values with in 3\")"
   ]
  },
  {
   "cell_type": "code",
   "execution_count": null,
   "metadata": {},
   "outputs": [],
   "source": [
    "10.If your programme is stuck in an endless loop, what keys can you press?\n",
    "\n",
    "CTRL-C to interupt the Kernel.    "
   ]
  },
  {
   "cell_type": "code",
   "execution_count": null,
   "metadata": {},
   "outputs": [],
   "source": [
    "11. How can you tell the difference between break and continue?\n",
    "\n",
    "break: this command will stop the iteration and will be out of the loop.\n",
    "continue: this command will skip the value/stringer and will again run the if statement."
   ]
  },
  {
   "cell_type": "code",
   "execution_count": null,
   "metadata": {},
   "outputs": [],
   "source": [
    "12. In a for loop, what is the difference between range(10), range(0, 10), and range(0, 10, 1)?\n",
    "\n",
    "All commands output will be same.\n",
    "range(10): gives value from 0 to 9\n",
    "range(0, 10): this is starts from 0 and completes with 9\n",
    "range(0, 10, 1): explicitely tells to start from 0 and ends till 9 by increments by 1.  "
   ]
  },
  {
   "cell_type": "code",
   "execution_count": null,
   "metadata": {},
   "outputs": [],
   "source": [
    "13. Using a for loop, write a short programme that prints the numbers 1 to 10 Then, using a while loop, \n",
    "create an identical programme that prints the numbers 1 to 10.\n",
    "\n",
    "For loop:-\n",
    "    for i in range(0,11):\n",
    "        print(i)\n",
    "        \n",
    "While loop:-\n",
    "n=1\n",
    "while n<=10:\n",
    "    print(n)\n",
    "    n+=1"
   ]
  },
  {
   "cell_type": "code",
   "execution_count": null,
   "metadata": {},
   "outputs": [],
   "source": [
    "14. If you had a bacon() function within a spam module, what would you call it after importing spam?\n"
   ]
  }
 ],
 "metadata": {
  "kernelspec": {
   "display_name": "Python 3",
   "language": "python",
   "name": "python3"
  },
  "language_info": {
   "codemirror_mode": {
    "name": "ipython",
    "version": 3
   },
   "file_extension": ".py",
   "mimetype": "text/x-python",
   "name": "python",
   "nbconvert_exporter": "python",
   "pygments_lexer": "ipython3",
   "version": "3.8.5"
  }
 },
 "nbformat": 4,
 "nbformat_minor": 4
}
