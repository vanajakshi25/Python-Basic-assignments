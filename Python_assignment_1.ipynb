{
 "cells": [
  {
   "cell_type": "code",
   "execution_count": null,
   "metadata": {},
   "outputs": [],
   "source": [
    "1. What are the differences between operators and values in the following?\n",
    "\n",
    "operators:\n",
    "    *\n",
    "    -\n",
    "    /\n",
    "    +\n",
    "values:\n",
    "    'hello'\n",
    "    -87.8\n",
    "    6"
   ]
  },
  {
   "cell_type": "code",
   "execution_count": null,
   "metadata": {},
   "outputs": [],
   "source": [
    "2. What is the difference between string and variable?\n",
    "   \n",
    "    spam: variable\n",
    "    'spam': string"
   ]
  },
  {
   "cell_type": "code",
   "execution_count": null,
   "metadata": {},
   "outputs": [],
   "source": [
    "3. Describe three different data forms.\n",
    "  \n",
    "    Integers\n",
    "    Floating-point number\n",
    "    complex number\n",
    "    string\n",
    "    Boolean type"
   ]
  },
  {
   "cell_type": "code",
   "execution_count": null,
   "metadata": {},
   "outputs": [],
   "source": [
    "4. What makes up an expression? What are the functions of all expressions?\n",
    " \n",
    "    An expression is a combination of values, variables, operators, and calls to functions. \n",
    "    The evaluation of an expression produces a value.    "
   ]
  },
  {
   "cell_type": "code",
   "execution_count": null,
   "metadata": {},
   "outputs": [],
   "source": [
    "5. In this chapter, assignment statements such as spam = 10 were added. \n",
    "What's the difference between a declaration and an expression?\n"
   ]
  },
  {
   "cell_type": "code",
   "execution_count": null,
   "metadata": {},
   "outputs": [],
   "source": [
    "6.After running the following code, what does the variable bacon contain?\n",
    "bacon = 22\n",
    "bacon + 1\n",
    "\n",
    "bacon=23"
   ]
  },
  {
   "cell_type": "code",
   "execution_count": null,
   "metadata": {},
   "outputs": [],
   "source": [
    "7. What should the values of the following two terms be?\n",
    "'spam' + 'spamspam'\n",
    "'spam' * 3\n",
    "\n",
    "'spamspamspam'"
   ]
  },
  {
   "cell_type": "code",
   "execution_count": null,
   "metadata": {},
   "outputs": [],
   "source": [
    "8. Why is it that eggs is a true variable name but 100 is not?\n",
    "\n",
    "egg: is a stringer and holds a value\n",
    "100: is a integer and integer will not hold any value"
   ]
  },
  {
   "cell_type": "code",
   "execution_count": null,
   "metadata": {},
   "outputs": [],
   "source": [
    "9. Which of the following three functions may be used to convert a value to an integer, \n",
    "a floating-point number, or a string?\n",
    "\n",
    "int(), float(), str()"
   ]
  },
  {
   "cell_type": "code",
   "execution_count": null,
   "metadata": {},
   "outputs": [],
   "source": [
    "10. What is the error caused by this expression? What would you do about it?\n",
    "'I have eaten ' + 99 + ' burritos.'\n",
    "\n",
    "TypeError: can only concatenate str (not \"int\") to str\n",
    "since 99 is integer and 'I have eaten 'and ' burritos' are stringer."
   ]
  }
 ],
 "metadata": {
  "kernelspec": {
   "display_name": "Python 3",
   "language": "python",
   "name": "python3"
  },
  "language_info": {
   "codemirror_mode": {
    "name": "ipython",
    "version": 3
   },
   "file_extension": ".py",
   "mimetype": "text/x-python",
   "name": "python",
   "nbconvert_exporter": "python",
   "pygments_lexer": "ipython3",
   "version": "3.8.5"
  }
 },
 "nbformat": 4,
 "nbformat_minor": 4
}
